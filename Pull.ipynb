{
  "nbformat": 4,
  "nbformat_minor": 0,
  "metadata": {
    "colab": {
      "provenance": []
    },
    "kernelspec": {
      "name": "python3",
      "display_name": "Python 3"
    },
    "language_info": {
      "name": "python"
    }
  },
  "cells": [
    {
      "cell_type": "code",
      "execution_count": 3,
      "metadata": {
        "colab": {
          "base_uri": "https://localhost:8080/",
          "height": 401
        },
        "id": "ox4me8digzxo",
        "outputId": "5b4c3157-da04-44d9-b67f-4baa07e8b71e"
      },
      "outputs": [
        {
          "output_type": "stream",
          "name": "stdout",
          "text": [
            "📡 Iniciando monitoreo del modelo en producción...\n",
            "\n",
            "📊 Reporte 1:\n",
            "   - Precisión del modelo: 92.19%\n",
            "   - Latencia de predicción: 483.76ms\n",
            "\n"
          ]
        },
        {
          "output_type": "error",
          "ename": "KeyboardInterrupt",
          "evalue": "",
          "traceback": [
            "\u001b[0;31m---------------------------------------------------------------------------\u001b[0m",
            "\u001b[0;31mKeyboardInterrupt\u001b[0m                         Traceback (most recent call last)",
            "\u001b[0;32m<ipython-input-3-3fa2af763cfa>\u001b[0m in \u001b[0;36m<cell line: 0>\u001b[0;34m()\u001b[0m\n\u001b[1;32m     19\u001b[0m \u001b[0;34m\u001b[0m\u001b[0m\n\u001b[1;32m     20\u001b[0m \u001b[0;32mif\u001b[0m \u001b[0m__name__\u001b[0m \u001b[0;34m==\u001b[0m \u001b[0;34m\"__main__\"\u001b[0m\u001b[0;34m:\u001b[0m\u001b[0;34m\u001b[0m\u001b[0;34m\u001b[0m\u001b[0m\n\u001b[0;32m---> 21\u001b[0;31m     \u001b[0mmonitor_model\u001b[0m\u001b[0;34m(\u001b[0m\u001b[0;34m)\u001b[0m\u001b[0;34m\u001b[0m\u001b[0;34m\u001b[0m\u001b[0m\n\u001b[0m",
            "\u001b[0;32m<ipython-input-3-3fa2af763cfa>\u001b[0m in \u001b[0;36mmonitor_model\u001b[0;34m()\u001b[0m\n\u001b[1;32m     14\u001b[0m         \u001b[0mprint\u001b[0m\u001b[0;34m(\u001b[0m\u001b[0;34mf\"   - Latencia de predicción: {latency}ms\\n\"\u001b[0m\u001b[0;34m)\u001b[0m\u001b[0;34m\u001b[0m\u001b[0;34m\u001b[0m\u001b[0m\n\u001b[1;32m     15\u001b[0m \u001b[0;34m\u001b[0m\u001b[0m\n\u001b[0;32m---> 16\u001b[0;31m         \u001b[0mtime\u001b[0m\u001b[0;34m.\u001b[0m\u001b[0msleep\u001b[0m\u001b[0;34m(\u001b[0m\u001b[0;36m1\u001b[0m\u001b[0;34m)\u001b[0m  \u001b[0;31m# Simular espera entre monitoreos\u001b[0m\u001b[0;34m\u001b[0m\u001b[0;34m\u001b[0m\u001b[0m\n\u001b[0m\u001b[1;32m     17\u001b[0m \u001b[0;34m\u001b[0m\u001b[0m\n\u001b[1;32m     18\u001b[0m     \u001b[0mprint\u001b[0m\u001b[0;34m(\u001b[0m\u001b[0;34m\"✅ Monitoreo finalizado. Todo en orden. 🚀\"\u001b[0m\u001b[0;34m)\u001b[0m\u001b[0;34m\u001b[0m\u001b[0;34m\u001b[0m\u001b[0m\n",
            "\u001b[0;31mKeyboardInterrupt\u001b[0m: "
          ]
        }
      ],
      "source": [
        "import time\n",
        "import random\n",
        "\n",
        "# 🚀 Simulación de monitoreo de modelo en producción\n",
        "def monitor_model():\n",
        "    print(\"📡 Iniciando monitoreo del modelo en producción...\\n\")\n",
        "\n",
        "    for i in range(5):\n",
        "        accuracy = round(random.uniform(85.0, 99.9), 2)\n",
        "        latency = round(random.uniform(100, 500), 2)\n",
        "\n",
        "        print(f\"📊 Reporte {i+1}:\")\n",
        "        print(f\"   - Precisión del modelo: {accuracy}%\")\n",
        "        print(f\"   - Latencia de predicción: {latency}ms\\n\")\n",
        "\n",
        "        time.sleep(1)  # Simular espera entre monitoreos\n",
        "\n",
        "    print(\"✅ Monitoreo finalizado. Todo en orden. 🚀\")\n",
        "\n",
        "if __name__ == \"__main__\":\n",
        "    monitor_model()\n"
      ]
    },
    {
      "cell_type": "code",
      "source": [],
      "metadata": {
        "id": "Cw3EiFTcnnDX"
      },
      "execution_count": null,
      "outputs": []
    }
  ]
}