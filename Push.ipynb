{
  "nbformat": 4,
  "nbformat_minor": 0,
  "metadata": {
    "colab": {
      "provenance": []
    },
    "kernelspec": {
      "name": "python3",
      "display_name": "Python 3"
    },
    "language_info": {
      "name": "python"
    }
  },
  "cells": [
    {
      "cell_type": "code",
      "execution_count": 1,
      "metadata": {
        "colab": {
          "base_uri": "https://localhost:8080/"
        },
        "id": "KTj0uhnQn9Ue",
        "outputId": "1358ab80-717a-423d-ab3c-fde925668083"
      },
      "outputs": [
        {
          "output_type": "stream",
          "name": "stdout",
          "text": [
            "📡 Iniciando monitoreo del modelo en producción...\n",
            "\n",
            "📊 Reporte 1:\n",
            "   - Precisión del modelo: 90.42%\n",
            "   - Latencia de predicción: 221.73ms\n",
            "\n",
            "\n",
            "📊 Reporte 2:\n",
            "   - Precisión del modelo: 88.62%\n",
            "   - Latencia de predicción: 152.01ms\n",
            "⚠️ ALERTA: Precisión del modelo por debajo del 90% ❗\n",
            "\n",
            "\n",
            "📊 Reporte 3:\n",
            "   - Precisión del modelo: 95.08%\n",
            "   - Latencia de predicción: 397.92ms\n",
            "\n",
            "\n",
            "📊 Reporte 4:\n",
            "   - Precisión del modelo: 94.4%\n",
            "   - Latencia de predicción: 372.18ms\n",
            "\n",
            "\n",
            "📊 Reporte 5:\n",
            "   - Precisión del modelo: 98.2%\n",
            "   - Latencia de predicción: 328.21ms\n",
            "\n",
            "\n",
            "✅ Monitoreo finalizado. Todo en orden. 🚀\n"
          ]
        }
      ],
      "source": [
        "import time\n",
        "import random\n",
        "\n",
        "# 🚀 Simulación de monitoreo de modelo en producción con alertas\n",
        "def monitor_model():\n",
        "    print(\"📡 Iniciando monitoreo del modelo en producción...\\n\")\n",
        "\n",
        "    for i in range(5):\n",
        "        accuracy = round(random.uniform(85.0, 99.9), 2)\n",
        "        latency = round(random.uniform(100, 500), 2)\n",
        "\n",
        "        print(f\"📊 Reporte {i+1}:\")\n",
        "        print(f\"   - Precisión del modelo: {accuracy}%\")\n",
        "        print(f\"   - Latencia de predicción: {latency}ms\")\n",
        "\n",
        "        # 🚨 Nueva funcionalidad: Generar alerta si la precisión es menor a 90%\n",
        "        if accuracy < 90.0:\n",
        "            print(\"⚠️ ALERTA: Precisión del modelo por debajo del 90% ❗\")\n",
        "\n",
        "        print(\"\\n\")\n",
        "        time.sleep(1)  # Simular espera entre monitoreos\n",
        "\n",
        "    print(\"✅ Monitoreo finalizado. Todo en orden. 🚀\")\n",
        "\n",
        "if __name__ == \"__main__\":\n",
        "    monitor_model()\n"
      ]
    },
    {
      "cell_type": "code",
      "source": [],
      "metadata": {
        "id": "-hc5ve0toMWR"
      },
      "execution_count": null,
      "outputs": []
    }
  ]
}